{
 "cells": [
  {
   "cell_type": "code",
   "execution_count": 3,
   "id": "9bc76008",
   "metadata": {},
   "outputs": [],
   "source": [
    "from PIL import Image\n",
    "import imageio"
   ]
  },
  {
   "cell_type": "code",
   "execution_count": 5,
   "id": "200d91b8",
   "metadata": {},
   "outputs": [],
   "source": [
    "img_1 = Image.open (\"/Users/student/Desktop/cat/cat1.png\")\n",
    "img_2 = Image.open (\"/Users/student/Desktop/cat/cat2.png\")\n",
    "img_list = [img_1, img_2]"
   ]
  },
  {
   "cell_type": "code",
   "execution_count": 7,
   "id": "7611be3a",
   "metadata": {},
   "outputs": [],
   "source": [
    "imageio.mimsave(\"/Users/student/Desktop/cat/catmove.gif\", img_list, duration = 1)"
   ]
  },
  {
   "cell_type": "code",
   "execution_count": null,
   "id": "89acc957",
   "metadata": {},
   "outputs": [],
   "source": []
  }
 ],
 "metadata": {
  "kernelspec": {
   "display_name": "Python 3 (ipykernel)",
   "language": "python",
   "name": "python3"
  },
  "language_info": {
   "codemirror_mode": {
    "name": "ipython",
    "version": 3
   },
   "file_extension": ".py",
   "mimetype": "text/x-python",
   "name": "python",
   "nbconvert_exporter": "python",
   "pygments_lexer": "ipython3",
   "version": "3.11.5"
  }
 },
 "nbformat": 4,
 "nbformat_minor": 5
}
